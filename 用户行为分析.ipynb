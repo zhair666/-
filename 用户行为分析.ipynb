{
 "cells": [
  {
   "cell_type": "code",
   "execution_count": 1,
   "id": "199139f0",
   "metadata": {},
   "outputs": [],
   "source": [
    "#导入模块\n",
    "import numpy as np \n",
    "import pandas as pd \n",
    "from pandas import Series,DataFrame\n",
    "import matplotlib.pyplot as plt\n",
    "\n",
    "plt.rcParams['font.sans-serif']=['SimHei'] #用来正常显示中文标签\n",
    "plt.rcParams['axes.unicode_minus']=False #用来正常显示负号\n"
   ]
  },
  {
   "cell_type": "code",
   "execution_count": 2,
   "id": "1c3e4ae5",
   "metadata": {},
   "outputs": [],
   "source": [
    "#导入数据\n",
    "df = pd.read_csv(\"tianchi_mobile_recommend_train_user.csv\")\n"
   ]
  },
  {
   "cell_type": "code",
   "execution_count": 3,
   "id": "ac0f7fd2",
   "metadata": {},
   "outputs": [
    {
     "data": {
      "text/html": [
       "<div>\n",
       "<style scoped>\n",
       "    .dataframe tbody tr th:only-of-type {\n",
       "        vertical-align: middle;\n",
       "    }\n",
       "\n",
       "    .dataframe tbody tr th {\n",
       "        vertical-align: top;\n",
       "    }\n",
       "\n",
       "    .dataframe thead th {\n",
       "        text-align: right;\n",
       "    }\n",
       "</style>\n",
       "<table border=\"1\" class=\"dataframe\">\n",
       "  <thead>\n",
       "    <tr style=\"text-align: right;\">\n",
       "      <th></th>\n",
       "      <th>user_id</th>\n",
       "      <th>item_id</th>\n",
       "      <th>behavior_type</th>\n",
       "      <th>user_geohash</th>\n",
       "      <th>item_category</th>\n",
       "      <th>time</th>\n",
       "    </tr>\n",
       "  </thead>\n",
       "  <tbody>\n",
       "    <tr>\n",
       "      <th>0</th>\n",
       "      <td>98047837</td>\n",
       "      <td>232431562</td>\n",
       "      <td>1</td>\n",
       "      <td>NaN</td>\n",
       "      <td>4245</td>\n",
       "      <td>2014-12-06 02</td>\n",
       "    </tr>\n",
       "    <tr>\n",
       "      <th>1</th>\n",
       "      <td>97726136</td>\n",
       "      <td>383583590</td>\n",
       "      <td>1</td>\n",
       "      <td>NaN</td>\n",
       "      <td>5894</td>\n",
       "      <td>2014-12-09 20</td>\n",
       "    </tr>\n",
       "    <tr>\n",
       "      <th>2</th>\n",
       "      <td>98607707</td>\n",
       "      <td>64749712</td>\n",
       "      <td>1</td>\n",
       "      <td>NaN</td>\n",
       "      <td>2883</td>\n",
       "      <td>2014-12-18 11</td>\n",
       "    </tr>\n",
       "    <tr>\n",
       "      <th>3</th>\n",
       "      <td>98662432</td>\n",
       "      <td>320593836</td>\n",
       "      <td>1</td>\n",
       "      <td>96nn52n</td>\n",
       "      <td>6562</td>\n",
       "      <td>2014-12-06 10</td>\n",
       "    </tr>\n",
       "    <tr>\n",
       "      <th>4</th>\n",
       "      <td>98145908</td>\n",
       "      <td>290208520</td>\n",
       "      <td>1</td>\n",
       "      <td>NaN</td>\n",
       "      <td>13926</td>\n",
       "      <td>2014-12-16 21</td>\n",
       "    </tr>\n",
       "  </tbody>\n",
       "</table>\n",
       "</div>"
      ],
      "text/plain": [
       "    user_id    item_id  behavior_type user_geohash  item_category  \\\n",
       "0  98047837  232431562              1          NaN           4245   \n",
       "1  97726136  383583590              1          NaN           5894   \n",
       "2  98607707   64749712              1          NaN           2883   \n",
       "3  98662432  320593836              1      96nn52n           6562   \n",
       "4  98145908  290208520              1          NaN          13926   \n",
       "\n",
       "            time  \n",
       "0  2014-12-06 02  \n",
       "1  2014-12-09 20  \n",
       "2  2014-12-18 11  \n",
       "3  2014-12-06 10  \n",
       "4  2014-12-16 21  "
      ]
     },
     "execution_count": 3,
     "metadata": {},
     "output_type": "execute_result"
    }
   ],
   "source": [
    "#查看表数据\n",
    "df.head()"
   ]
  },
  {
   "cell_type": "code",
   "execution_count": 4,
   "id": "fde6be28",
   "metadata": {
    "scrolled": true
   },
   "outputs": [
    {
     "name": "stdout",
     "output_type": "stream",
     "text": [
      "<class 'pandas.core.frame.DataFrame'>\n",
      "RangeIndex: 12256906 entries, 0 to 12256905\n",
      "Data columns (total 6 columns):\n",
      " #   Column         Dtype \n",
      "---  ------         ----- \n",
      " 0   user_id        int64 \n",
      " 1   item_id        int64 \n",
      " 2   behavior_type  int64 \n",
      " 3   user_geohash   object\n",
      " 4   item_category  int64 \n",
      " 5   time           object\n",
      "dtypes: int64(4), object(2)\n",
      "memory usage: 561.1+ MB\n"
     ]
    }
   ],
   "source": [
    "#查看表结构\n",
    "df.info()"
   ]
  },
  {
   "cell_type": "code",
   "execution_count": 5,
   "id": "b559172b",
   "metadata": {},
   "outputs": [
    {
     "data": {
      "text/plain": [
       "4092866"
      ]
     },
     "execution_count": 5,
     "metadata": {},
     "output_type": "execute_result"
    }
   ],
   "source": [
    "#查看重复值\n",
    "df.duplicated().sum()"
   ]
  },
  {
   "cell_type": "code",
   "execution_count": 6,
   "id": "05323eaf",
   "metadata": {},
   "outputs": [],
   "source": [
    "#删除重复值\n",
    "df.drop_duplicates(inplace=True)"
   ]
  },
  {
   "cell_type": "code",
   "execution_count": 7,
   "id": "5f875ede",
   "metadata": {},
   "outputs": [
    {
     "data": {
      "text/plain": [
       "user_id                0\n",
       "item_id                0\n",
       "behavior_type          0\n",
       "user_geohash     4308015\n",
       "item_category          0\n",
       "time                   0\n",
       "dtype: int64"
      ]
     },
     "execution_count": 7,
     "metadata": {},
     "output_type": "execute_result"
    }
   ],
   "source": [
    "#查看空值\n",
    "df.isnull().sum()"
   ]
  },
  {
   "cell_type": "code",
   "execution_count": 8,
   "id": "78ab83fe",
   "metadata": {},
   "outputs": [],
   "source": [
    "# 缺失值均为地理信息，对用户行为分析无影响，不做处理\n",
    "df.drop('user_geohash',axis=1, inplace=True)"
   ]
  },
  {
   "cell_type": "code",
   "execution_count": 9,
   "id": "ab3e5152",
   "metadata": {},
   "outputs": [
    {
     "name": "stdout",
     "output_type": "stream",
     "text": [
      "<class 'pandas.core.frame.DataFrame'>\n",
      "Int64Index: 8164040 entries, 0 to 12256904\n",
      "Data columns (total 5 columns):\n",
      " #   Column         Dtype \n",
      "---  ------         ----- \n",
      " 0   user_id        int64 \n",
      " 1   item_id        int64 \n",
      " 2   behavior_type  int64 \n",
      " 3   item_category  int64 \n",
      " 4   time           object\n",
      "dtypes: int64(4), object(1)\n",
      "memory usage: 373.7+ MB\n"
     ]
    }
   ],
   "source": [
    "df.info()"
   ]
  },
  {
   "cell_type": "code",
   "execution_count": 10,
   "id": "5f633ef8",
   "metadata": {},
   "outputs": [],
   "source": [
    "#设置时间\n",
    "df['date'] = pd.to_datetime(df['time']).dt.date\n",
    "df['date'] = pd.to_datetime(df['date'])\n",
    "df['hour'] = pd.to_datetime(df['time']).dt.hour"
   ]
  },
  {
   "cell_type": "code",
   "execution_count": 11,
   "id": "259978e5",
   "metadata": {},
   "outputs": [
    {
     "name": "stdout",
     "output_type": "stream",
     "text": [
      "<class 'pandas.core.frame.DataFrame'>\n",
      "Int64Index: 8164040 entries, 0 to 12256904\n",
      "Data columns (total 7 columns):\n",
      " #   Column         Dtype         \n",
      "---  ------         -----         \n",
      " 0   user_id        int64         \n",
      " 1   item_id        int64         \n",
      " 2   behavior_type  int64         \n",
      " 3   item_category  int64         \n",
      " 4   time           object        \n",
      " 5   date           datetime64[ns]\n",
      " 6   hour           int64         \n",
      "dtypes: datetime64[ns](1), int64(5), object(1)\n",
      "memory usage: 498.3+ MB\n"
     ]
    }
   ],
   "source": [
    "df.info()"
   ]
  },
  {
   "cell_type": "code",
   "execution_count": 12,
   "id": "c11cbc48",
   "metadata": {},
   "outputs": [],
   "source": [
    "#删除\n",
    "df.drop(labels='time',inplace=True,axis=1)"
   ]
  },
  {
   "cell_type": "code",
   "execution_count": 13,
   "id": "a9362978",
   "metadata": {},
   "outputs": [],
   "source": [
    "#重新设置索引\n",
    "df.reset_index(drop=True,inplace=True)"
   ]
  },
  {
   "cell_type": "code",
   "execution_count": 14,
   "id": "3ecb6370",
   "metadata": {},
   "outputs": [
    {
     "name": "stdout",
     "output_type": "stream",
     "text": [
      "<class 'pandas.core.frame.DataFrame'>\n",
      "RangeIndex: 8164040 entries, 0 to 8164039\n",
      "Data columns (total 6 columns):\n",
      " #   Column         Dtype         \n",
      "---  ------         -----         \n",
      " 0   user_id        int64         \n",
      " 1   item_id        int64         \n",
      " 2   behavior_type  int64         \n",
      " 3   item_category  int64         \n",
      " 4   date           datetime64[ns]\n",
      " 5   hour           int64         \n",
      "dtypes: datetime64[ns](1), int64(5)\n",
      "memory usage: 373.7 MB\n"
     ]
    }
   ],
   "source": [
    "df.info()"
   ]
  },
  {
   "cell_type": "code",
   "execution_count": 15,
   "id": "a7cf5972",
   "metadata": {},
   "outputs": [
    {
     "data": {
      "text/html": [
       "<div>\n",
       "<style scoped>\n",
       "    .dataframe tbody tr th:only-of-type {\n",
       "        vertical-align: middle;\n",
       "    }\n",
       "\n",
       "    .dataframe tbody tr th {\n",
       "        vertical-align: top;\n",
       "    }\n",
       "\n",
       "    .dataframe thead th {\n",
       "        text-align: right;\n",
       "    }\n",
       "</style>\n",
       "<table border=\"1\" class=\"dataframe\">\n",
       "  <thead>\n",
       "    <tr style=\"text-align: right;\">\n",
       "      <th></th>\n",
       "      <th>user_id</th>\n",
       "      <th>item_id</th>\n",
       "      <th>behavior_type</th>\n",
       "      <th>item_category</th>\n",
       "      <th>date</th>\n",
       "      <th>hour</th>\n",
       "    </tr>\n",
       "  </thead>\n",
       "  <tbody>\n",
       "    <tr>\n",
       "      <th>0</th>\n",
       "      <td>98047837</td>\n",
       "      <td>232431562</td>\n",
       "      <td>1</td>\n",
       "      <td>4245</td>\n",
       "      <td>2014-12-06</td>\n",
       "      <td>2</td>\n",
       "    </tr>\n",
       "    <tr>\n",
       "      <th>1</th>\n",
       "      <td>97726136</td>\n",
       "      <td>383583590</td>\n",
       "      <td>1</td>\n",
       "      <td>5894</td>\n",
       "      <td>2014-12-09</td>\n",
       "      <td>20</td>\n",
       "    </tr>\n",
       "    <tr>\n",
       "      <th>2</th>\n",
       "      <td>98607707</td>\n",
       "      <td>64749712</td>\n",
       "      <td>1</td>\n",
       "      <td>2883</td>\n",
       "      <td>2014-12-18</td>\n",
       "      <td>11</td>\n",
       "    </tr>\n",
       "    <tr>\n",
       "      <th>3</th>\n",
       "      <td>98662432</td>\n",
       "      <td>320593836</td>\n",
       "      <td>1</td>\n",
       "      <td>6562</td>\n",
       "      <td>2014-12-06</td>\n",
       "      <td>10</td>\n",
       "    </tr>\n",
       "    <tr>\n",
       "      <th>4</th>\n",
       "      <td>98145908</td>\n",
       "      <td>290208520</td>\n",
       "      <td>1</td>\n",
       "      <td>13926</td>\n",
       "      <td>2014-12-16</td>\n",
       "      <td>21</td>\n",
       "    </tr>\n",
       "  </tbody>\n",
       "</table>\n",
       "</div>"
      ],
      "text/plain": [
       "    user_id    item_id  behavior_type  item_category       date  hour\n",
       "0  98047837  232431562              1           4245 2014-12-06     2\n",
       "1  97726136  383583590              1           5894 2014-12-09    20\n",
       "2  98607707   64749712              1           2883 2014-12-18    11\n",
       "3  98662432  320593836              1           6562 2014-12-06    10\n",
       "4  98145908  290208520              1          13926 2014-12-16    21"
      ]
     },
     "execution_count": 15,
     "metadata": {},
     "output_type": "execute_result"
    }
   ],
   "source": [
    "df.head()"
   ]
  },
  {
   "cell_type": "markdown",
   "id": "0ac3b9f9",
   "metadata": {},
   "source": [
    "活跃度"
   ]
  },
  {
   "cell_type": "code",
   "execution_count": 16,
   "id": "b343a66c",
   "metadata": {},
   "outputs": [
    {
     "data": {
      "text/plain": [
       "479388"
      ]
     },
     "execution_count": 16,
     "metadata": {},
     "output_type": "execute_result"
    }
   ],
   "source": [
    "#日活跃量\n",
    "day_amount = df.groupby(by='date')[\"user_id\"].count().sort_values()\n",
    "day_amount.max()"
   ]
  },
  {
   "cell_type": "code",
   "execution_count": 17,
   "id": "d15e6638",
   "metadata": {},
   "outputs": [
    {
     "data": {
      "text/plain": [
       "<AxesSubplot:xlabel='date'>"
      ]
     },
     "execution_count": 17,
     "metadata": {},
     "output_type": "execute_result"
    },
    {
     "data": {
      "image/png": "[encoded data removed]",
      "text/plain": [
       "<Figure size 432x288 with 1 Axes>"
      ]
     },
     "metadata": {
      "needs_background": "light"
     },
     "output_type": "display_data"
    }
   ],
   "source": [
    "day_amount.plot()"
   ]
  },
  {
   "cell_type": "markdown",
   "id": "ce581d71",
   "metadata": {},
   "source": [
    "    通过折现图总体趋势来看,双十二前几天的访问量明显有增加,12月1号就开始有增长的趋势,有预热活动的促进,双十二这一天日活跃量最高达到346464,双十二之后访问量立马下调。"
   ]
  },
  {
   "cell_type": "code",
   "execution_count": 18,
   "id": "c4ea506d",
   "metadata": {},
   "outputs": [],
   "source": [
    "#用户活跃量\n",
    "day_amount2 = df.groupby(by='date')[\"user_id\"].nunique().sort_values()"
   ]
  },
  {
   "cell_type": "code",
   "execution_count": 19,
   "id": "cbe72002",
   "metadata": {},
   "outputs": [
    {
     "data": {
      "text/plain": [
       "7720"
      ]
     },
     "execution_count": 19,
     "metadata": {},
     "output_type": "execute_result"
    }
   ],
   "source": [
    "#最高一天用户\n",
    "day_amount2.max()"
   ]
  },
  {
   "cell_type": "code",
   "execution_count": 20,
   "id": "b083e378",
   "metadata": {},
   "outputs": [
    {
     "data": {
      "text/plain": [
       "<AxesSubplot:xlabel='date'>"
      ]
     },
     "execution_count": 20,
     "metadata": {},
     "output_type": "execute_result"
    },
    {
     "data": {
      "image/png": "[encoded data removed]",
      "text/plain": [
       "<Figure size 432x288 with 1 Axes>"
      ]
     },
     "metadata": {
      "needs_background": "light"
     },
     "output_type": "display_data"
    }
   ],
   "source": [
    "day_amount2.plot()"
   ]
  },
  {
   "cell_type": "code",
   "execution_count": 21,
   "id": "cee28a8e",
   "metadata": {},
   "outputs": [
    {
     "data": {
      "text/plain": [
       "date\n",
       "2014-12-12    62.096891\n",
       "2014-12-11    50.531477\n",
       "2014-12-10    44.791942\n",
       "2014-12-09    42.776119\n",
       "2014-12-07    42.582217\n",
       "2014-12-14    42.275795\n",
       "2014-12-13    41.865112\n",
       "2014-12-08    41.261731\n",
       "2014-12-06    41.258696\n",
       "2014-12-15    40.881980\n",
       "2014-12-16    40.853470\n",
       "2014-12-17    40.194641\n",
       "2014-11-30    40.109892\n",
       "2014-12-03    39.830220\n",
       "2014-12-18    39.682012\n",
       "2014-12-02    39.621374\n",
       "2014-12-04    39.193385\n",
       "2014-11-23    38.620430\n",
       "2014-12-01    38.534688\n",
       "2014-11-22    37.658639\n",
       "2014-11-29    37.581780\n",
       "2014-11-24    37.567788\n",
       "2014-11-27    37.397075\n",
       "2014-11-18    37.126439\n",
       "2014-11-25    36.924106\n",
       "2014-11-19    36.315265\n",
       "2014-12-05    36.259934\n",
       "2014-11-26    35.989932\n",
       "2014-11-20    35.768672\n",
       "2014-11-28    35.025529\n",
       "2014-11-21    34.081262\n",
       "Name: user_id, dtype: float64"
      ]
     },
     "execution_count": 21,
     "metadata": {},
     "output_type": "execute_result"
    }
   ],
   "source": [
    "#平均每个用户日活跃量\n",
    "day_avg = day_amount/day_amount2\n",
    "day_avg.sort_values(ascending=False)"
   ]
  },
  {
   "cell_type": "code",
   "execution_count": 22,
   "id": "9bd5c242",
   "metadata": {},
   "outputs": [],
   "source": [
    "#提取双十二用户情况\n",
    "double_day = df.loc[df[\"date\"] == \"2014-12-12\"]"
   ]
  },
  {
   "cell_type": "markdown",
   "id": "a963794a",
   "metadata": {},
   "source": [
    "分析双十二:\n",
    "    1.每小时访问量\n",
    "    2.每小时用户活跃数\n",
    "    3.平均每小时人均访问量"
   ]
  },
  {
   "cell_type": "code",
   "execution_count": 23,
   "id": "2a87c55f",
   "metadata": {},
   "outputs": [
    {
     "data": {
      "text/plain": [
       "<AxesSubplot:xlabel='hour'>"
      ]
     },
     "execution_count": 23,
     "metadata": {},
     "output_type": "execute_result"
    },
    {
     "data": {
      "image/png": "[encoded data removed]",
      "text/plain": [
       "<Figure size 432x288 with 1 Axes>"
      ]
     },
     "metadata": {
      "needs_background": "light"
     },
     "output_type": "display_data"
    }
   ],
   "source": [
    "#每小时访问量\n",
    "double_pv = double_day.groupby(by='hour')[\"user_id\"].count()\n",
    "double_pv.plot(kind='line')"
   ]
  },
  {
   "cell_type": "code",
   "execution_count": 24,
   "id": "cc1ab307",
   "metadata": {},
   "outputs": [
    {
     "data": {
      "text/plain": [
       "<AxesSubplot:xlabel='hour'>"
      ]
     },
     "execution_count": 24,
     "metadata": {},
     "output_type": "execute_result"
    },
    {
     "data": {
      "image/png": "[encoded data removed]",
      "text/plain": [
       "<Figure size 432x288 with 1 Axes>"
      ]
     },
     "metadata": {
      "needs_background": "light"
     },
     "output_type": "display_data"
    }
   ],
   "source": [
    "#每小时用户活跃数\n",
    "double_uv = double_day.groupby(by='hour')[\"user_id\"].nunique()\n",
    "double_uv.plot(kind='line')"
   ]
  },
  {
   "cell_type": "code",
   "execution_count": 25,
   "id": "22c05035",
   "metadata": {},
   "outputs": [
    {
     "data": {
      "text/plain": [
       "<AxesSubplot:xlabel='hour'>"
      ]
     },
     "execution_count": 25,
     "metadata": {},
     "output_type": "execute_result"
    },
    {
     "data": {
      "image/png": "[encoded data removed]",
      "text/plain": [
       "<Figure size 432x288 with 1 Axes>"
      ]
     },
     "metadata": {
      "needs_background": "light"
     },
     "output_type": "display_data"
    }
   ],
   "source": [
    "#平均每小时用户访问数\n",
    "double_a = double_pv/double_uv\n",
    "double_a.plot()"
   ]
  },
  {
   "cell_type": "markdown",
   "id": "3e7003f1",
   "metadata": {},
   "source": [
    "            结论:晚上18点到晚上0访问数逐渐上升，0点到达顶峰访问达到16次，这段时间为下班时间。0点到7点之间逐渐下降,五点到七点之间客流量很少少于10次\n",
    "            建议:晚上18到0点期间加大力度进行商品推广促销"
   ]
  },
  {
   "cell_type": "code",
   "execution_count": 26,
   "id": "d0f12779",
   "metadata": {},
   "outputs": [
    {
     "data": {
      "text/html": [
       "<div>\n",
       "<style scoped>\n",
       "    .dataframe tbody tr th:only-of-type {\n",
       "        vertical-align: middle;\n",
       "    }\n",
       "\n",
       "    .dataframe tbody tr th {\n",
       "        vertical-align: top;\n",
       "    }\n",
       "\n",
       "    .dataframe thead th {\n",
       "        text-align: right;\n",
       "    }\n",
       "</style>\n",
       "<table border=\"1\" class=\"dataframe\">\n",
       "  <thead>\n",
       "    <tr style=\"text-align: right;\">\n",
       "      <th>behavior_type</th>\n",
       "      <th>1</th>\n",
       "      <th>2</th>\n",
       "      <th>3</th>\n",
       "      <th>4</th>\n",
       "    </tr>\n",
       "    <tr>\n",
       "      <th>date</th>\n",
       "      <th></th>\n",
       "      <th></th>\n",
       "      <th></th>\n",
       "      <th></th>\n",
       "    </tr>\n",
       "  </thead>\n",
       "  <tbody>\n",
       "    <tr>\n",
       "      <th>2014-11-18</th>\n",
       "      <td>215480</td>\n",
       "      <td>6797</td>\n",
       "      <td>9800</td>\n",
       "      <td>3416</td>\n",
       "    </tr>\n",
       "    <tr>\n",
       "      <th>2014-11-19</th>\n",
       "      <td>213108</td>\n",
       "      <td>7079</td>\n",
       "      <td>9607</td>\n",
       "      <td>3350</td>\n",
       "    </tr>\n",
       "    <tr>\n",
       "      <th>2014-11-20</th>\n",
       "      <td>206740</td>\n",
       "      <td>7063</td>\n",
       "      <td>9552</td>\n",
       "      <td>3168</td>\n",
       "    </tr>\n",
       "    <tr>\n",
       "      <th>2014-11-21</th>\n",
       "      <td>196121</td>\n",
       "      <td>6722</td>\n",
       "      <td>8328</td>\n",
       "      <td>2723</td>\n",
       "    </tr>\n",
       "    <tr>\n",
       "      <th>2014-11-22</th>\n",
       "      <td>213292</td>\n",
       "      <td>7001</td>\n",
       "      <td>9493</td>\n",
       "      <td>3208</td>\n",
       "    </tr>\n",
       "  </tbody>\n",
       "</table>\n",
       "</div>"
      ],
      "text/plain": [
       "behavior_type       1     2     3     4\n",
       "date                                   \n",
       "2014-11-18     215480  6797  9800  3416\n",
       "2014-11-19     213108  7079  9607  3350\n",
       "2014-11-20     206740  7063  9552  3168\n",
       "2014-11-21     196121  6722  8328  2723\n",
       "2014-11-22     213292  7001  9493  3208"
      ]
     },
     "execution_count": 26,
     "metadata": {},
     "output_type": "execute_result"
    }
   ],
   "source": [
    "#行为访问量\n",
    "activity_pv = df.pivot_table(index=\"date\",columns=\"behavior_type\",aggfunc=\"size\")\n",
    "activity_pv.head()"
   ]
  },
  {
   "cell_type": "code",
   "execution_count": 27,
   "id": "1b114ec6",
   "metadata": {},
   "outputs": [
    {
     "data": {
      "text/html": [
       "<div>\n",
       "<style scoped>\n",
       "    .dataframe tbody tr th:only-of-type {\n",
       "        vertical-align: middle;\n",
       "    }\n",
       "\n",
       "    .dataframe tbody tr th {\n",
       "        vertical-align: top;\n",
       "    }\n",
       "\n",
       "    .dataframe thead th {\n",
       "        text-align: right;\n",
       "    }\n",
       "</style>\n",
       "<table border=\"1\" class=\"dataframe\">\n",
       "  <thead>\n",
       "    <tr style=\"text-align: right;\">\n",
       "      <th></th>\n",
       "      <th>点击</th>\n",
       "      <th>收藏</th>\n",
       "      <th>加购物车</th>\n",
       "      <th>支付</th>\n",
       "    </tr>\n",
       "    <tr>\n",
       "      <th>date</th>\n",
       "      <th></th>\n",
       "      <th></th>\n",
       "      <th></th>\n",
       "      <th></th>\n",
       "    </tr>\n",
       "  </thead>\n",
       "  <tbody>\n",
       "    <tr>\n",
       "      <th>2014-11-18</th>\n",
       "      <td>215480</td>\n",
       "      <td>6797</td>\n",
       "      <td>9800</td>\n",
       "      <td>3416</td>\n",
       "    </tr>\n",
       "    <tr>\n",
       "      <th>2014-11-19</th>\n",
       "      <td>213108</td>\n",
       "      <td>7079</td>\n",
       "      <td>9607</td>\n",
       "      <td>3350</td>\n",
       "    </tr>\n",
       "    <tr>\n",
       "      <th>2014-11-20</th>\n",
       "      <td>206740</td>\n",
       "      <td>7063</td>\n",
       "      <td>9552</td>\n",
       "      <td>3168</td>\n",
       "    </tr>\n",
       "    <tr>\n",
       "      <th>2014-11-21</th>\n",
       "      <td>196121</td>\n",
       "      <td>6722</td>\n",
       "      <td>8328</td>\n",
       "      <td>2723</td>\n",
       "    </tr>\n",
       "    <tr>\n",
       "      <th>2014-11-22</th>\n",
       "      <td>213292</td>\n",
       "      <td>7001</td>\n",
       "      <td>9493</td>\n",
       "      <td>3208</td>\n",
       "    </tr>\n",
       "  </tbody>\n",
       "</table>\n",
       "</div>"
      ],
      "text/plain": [
       "                点击    收藏  加购物车    支付\n",
       "date                                \n",
       "2014-11-18  215480  6797  9800  3416\n",
       "2014-11-19  213108  7079  9607  3350\n",
       "2014-11-20  206740  7063  9552  3168\n",
       "2014-11-21  196121  6722  8328  2723\n",
       "2014-11-22  213292  7001  9493  3208"
      ]
     },
     "execution_count": 27,
     "metadata": {},
     "output_type": "execute_result"
    }
   ],
   "source": [
    "#点击、收藏、加购物车、支付\n",
    "activity_pv.columns = [\"点击\",\"收藏\",\"加购物车\",\"支付\"]\n",
    "activity_pv.head()"
   ]
  },
  {
   "cell_type": "code",
   "execution_count": 28,
   "id": "851cb766",
   "metadata": {},
   "outputs": [
    {
     "data": {
      "image/png": "[encoded data removed]",
      "text/plain": [
       "<Figure size 720x360 with 1 Axes>"
      ]
     },
     "metadata": {
      "needs_background": "light"
     },
     "output_type": "display_data"
    }
   ],
   "source": [
    "plt.figure(figsize=(10,5))\n",
    "plt.plot(activity_pv.index,activity_pv[\"点击\"],label=\"点击\")\n",
    "plt.plot(activity_pv.index,activity_pv[\"收藏\"],label=\"收藏\")\n",
    "plt.plot(activity_pv.index,activity_pv[\"加购物车\"],label=\"加购物\")\n",
    "plt.plot(activity_pv.index,activity_pv[\"支付\"],label=\"支付\")\n",
    "plt.legend(loc=\"upper right\")\n",
    "k = plt.xticks(rotation=30)"
   ]
  },
  {
   "cell_type": "markdown",
   "id": "0a0613f2",
   "metadata": {},
   "source": [
    "- 结论\n",
    "    - 在双十二这一天点击、收藏、加购物、支付四种行为访问量最高，可以观察到的是支付量在双十二这一天高于收藏量,说明用户可能存在冲动消费或者凑单的行为或者活动促进了用户的购买。\n",
    "        "
   ]
  },
  {
   "cell_type": "code",
   "execution_count": 29,
   "id": "809bebf8",
   "metadata": {},
   "outputs": [
    {
     "data": {
      "text/plain": [
       "1    7479078\n",
       "3     333371\n",
       "2     240919\n",
       "4     110672\n",
       "Name: behavior_type, dtype: int64"
      ]
     },
     "execution_count": 29,
     "metadata": {},
     "output_type": "execute_result"
    }
   ],
   "source": [
    "#点击量\n",
    "dianji = activity_pv[\"点击\"].sum()\n",
    "#收藏\n",
    "shoucang = activity_pv[\"收藏\"].sum()\n",
    "#购物车\n",
    "gouwu = activity_pv[\"加购物车\"].sum()\n",
    "#支付\n",
    "zhifu = activity_pv[\"支付\"].sum()\n",
    "#统计\n",
    "df[\"behavior_type\"].value_counts()"
   ]
  },
  {
   "cell_type": "code",
   "execution_count": 30,
   "id": "8706f67b",
   "metadata": {},
   "outputs": [
    {
     "data": {
      "text/html": [
       "<div>\n",
       "<style scoped>\n",
       "    .dataframe tbody tr th:only-of-type {\n",
       "        vertical-align: middle;\n",
       "    }\n",
       "\n",
       "    .dataframe tbody tr th {\n",
       "        vertical-align: top;\n",
       "    }\n",
       "\n",
       "    .dataframe thead th {\n",
       "        text-align: right;\n",
       "    }\n",
       "</style>\n",
       "<table border=\"1\" class=\"dataframe\">\n",
       "  <thead>\n",
       "    <tr style=\"text-align: right;\">\n",
       "      <th></th>\n",
       "      <th>访问量</th>\n",
       "    </tr>\n",
       "  </thead>\n",
       "  <tbody>\n",
       "    <tr>\n",
       "      <th>点击</th>\n",
       "      <td>7479078</td>\n",
       "    </tr>\n",
       "    <tr>\n",
       "      <th>收藏</th>\n",
       "      <td>240919</td>\n",
       "    </tr>\n",
       "    <tr>\n",
       "      <th>加购物车</th>\n",
       "      <td>333371</td>\n",
       "    </tr>\n",
       "    <tr>\n",
       "      <th>支付</th>\n",
       "      <td>110672</td>\n",
       "    </tr>\n",
       "  </tbody>\n",
       "</table>\n",
       "</div>"
      ],
      "text/plain": [
       "          访问量\n",
       "点击    7479078\n",
       "收藏     240919\n",
       "加购物车   333371\n",
       "支付     110672"
      ]
     },
     "execution_count": 30,
     "metadata": {},
     "output_type": "execute_result"
    }
   ],
   "source": [
    "#制作表\n",
    "activity_df = pd.DataFrame(data=[dianji,shoucang,gouwu,zhifu],index=[\"点击\",\"收藏\",\"加购物车\",\"支付\"])\n",
    "activity_df.columns = [\"访问量\"]\n",
    "activity_df"
   ]
  },
  {
   "cell_type": "code",
   "execution_count": 31,
   "id": "e8add578",
   "metadata": {},
   "outputs": [
    {
     "data": {
      "text/html": [
       "<div>\n",
       "<style scoped>\n",
       "    .dataframe tbody tr th:only-of-type {\n",
       "        vertical-align: middle;\n",
       "    }\n",
       "\n",
       "    .dataframe tbody tr th {\n",
       "        vertical-align: top;\n",
       "    }\n",
       "\n",
       "    .dataframe thead th {\n",
       "        text-align: right;\n",
       "    }\n",
       "</style>\n",
       "<table border=\"1\" class=\"dataframe\">\n",
       "  <thead>\n",
       "    <tr style=\"text-align: right;\">\n",
       "      <th></th>\n",
       "      <th>访问量</th>\n",
       "      <th>单一环节转化率%</th>\n",
       "    </tr>\n",
       "  </thead>\n",
       "  <tbody>\n",
       "    <tr>\n",
       "      <th>点击</th>\n",
       "      <td>7479078</td>\n",
       "      <td>100.000000</td>\n",
       "    </tr>\n",
       "    <tr>\n",
       "      <th>收藏</th>\n",
       "      <td>240919</td>\n",
       "      <td>3.221239</td>\n",
       "    </tr>\n",
       "    <tr>\n",
       "      <th>加购物车</th>\n",
       "      <td>333371</td>\n",
       "      <td>138.374723</td>\n",
       "    </tr>\n",
       "    <tr>\n",
       "      <th>支付</th>\n",
       "      <td>110672</td>\n",
       "      <td>33.197849</td>\n",
       "    </tr>\n",
       "  </tbody>\n",
       "</table>\n",
       "</div>"
      ],
      "text/plain": [
       "          访问量    单一环节转化率%\n",
       "点击    7479078  100.000000\n",
       "收藏     240919    3.221239\n",
       "加购物车   333371  138.374723\n",
       "支付     110672   33.197849"
      ]
     },
     "execution_count": 31,
     "metadata": {},
     "output_type": "execute_result"
    }
   ],
   "source": [
    "#单一转换率\n",
    "activity_df[\"单一环节转化率%\"] = activity_df[\"访问量\"]/activity_df[\"访问量\"].shift(1)*100\n",
    "activity_df = activity_df.fillna(value=100)\n",
    "activity_df"
   ]
  },
  {
   "cell_type": "code",
   "execution_count": 32,
   "id": "dda74ae7",
   "metadata": {},
   "outputs": [
    {
     "data": {
      "text/html": [
       "<div>\n",
       "<style scoped>\n",
       "    .dataframe tbody tr th:only-of-type {\n",
       "        vertical-align: middle;\n",
       "    }\n",
       "\n",
       "    .dataframe tbody tr th {\n",
       "        vertical-align: top;\n",
       "    }\n",
       "\n",
       "    .dataframe thead th {\n",
       "        text-align: right;\n",
       "    }\n",
       "</style>\n",
       "<table border=\"1\" class=\"dataframe\">\n",
       "  <thead>\n",
       "    <tr style=\"text-align: right;\">\n",
       "      <th></th>\n",
       "      <th>访问量</th>\n",
       "      <th>单一环节转化率%</th>\n",
       "      <th>整体环节转化率%</th>\n",
       "    </tr>\n",
       "  </thead>\n",
       "  <tbody>\n",
       "    <tr>\n",
       "      <th>点击</th>\n",
       "      <td>7479078</td>\n",
       "      <td>100.000000</td>\n",
       "      <td>100.000000</td>\n",
       "    </tr>\n",
       "    <tr>\n",
       "      <th>收藏</th>\n",
       "      <td>240919</td>\n",
       "      <td>3.221239</td>\n",
       "      <td>3.221239</td>\n",
       "    </tr>\n",
       "    <tr>\n",
       "      <th>加购物车</th>\n",
       "      <td>333371</td>\n",
       "      <td>138.374723</td>\n",
       "      <td>4.457381</td>\n",
       "    </tr>\n",
       "    <tr>\n",
       "      <th>支付</th>\n",
       "      <td>110672</td>\n",
       "      <td>33.197849</td>\n",
       "      <td>1.479755</td>\n",
       "    </tr>\n",
       "  </tbody>\n",
       "</table>\n",
       "</div>"
      ],
      "text/plain": [
       "          访问量    单一环节转化率%    整体环节转化率%\n",
       "点击    7479078  100.000000  100.000000\n",
       "收藏     240919    3.221239    3.221239\n",
       "加购物车   333371  138.374723    4.457381\n",
       "支付     110672   33.197849    1.479755"
      ]
     },
     "execution_count": 32,
     "metadata": {},
     "output_type": "execute_result"
    }
   ],
   "source": [
    "#整体转换率\n",
    "activity_df[\"整体环节转化率%\"] = activity_df[\"访问量\"]/activity_df.iloc[0,0]*100\n",
    "activity_df"
   ]
  },
  {
   "cell_type": "code",
   "execution_count": 33,
   "id": "7190a66b",
   "metadata": {},
   "outputs": [
    {
     "data": {
      "text/html": [
       "<div>\n",
       "<style scoped>\n",
       "    .dataframe tbody tr th:only-of-type {\n",
       "        vertical-align: middle;\n",
       "    }\n",
       "\n",
       "    .dataframe tbody tr th {\n",
       "        vertical-align: top;\n",
       "    }\n",
       "\n",
       "    .dataframe thead th {\n",
       "        text-align: right;\n",
       "    }\n",
       "</style>\n",
       "<table border=\"1\" class=\"dataframe\">\n",
       "  <thead>\n",
       "    <tr style=\"text-align: right;\">\n",
       "      <th></th>\n",
       "      <th>访问量</th>\n",
       "      <th>单一环节转化率%</th>\n",
       "      <th>整体环节转化率%</th>\n",
       "      <th>单一环节流失率%</th>\n",
       "    </tr>\n",
       "  </thead>\n",
       "  <tbody>\n",
       "    <tr>\n",
       "      <th>点击</th>\n",
       "      <td>7479078</td>\n",
       "      <td>100.000000</td>\n",
       "      <td>100.000000</td>\n",
       "      <td>0.000000</td>\n",
       "    </tr>\n",
       "    <tr>\n",
       "      <th>收藏</th>\n",
       "      <td>240919</td>\n",
       "      <td>3.221239</td>\n",
       "      <td>3.221239</td>\n",
       "      <td>96.778761</td>\n",
       "    </tr>\n",
       "    <tr>\n",
       "      <th>加购物车</th>\n",
       "      <td>333371</td>\n",
       "      <td>138.374723</td>\n",
       "      <td>4.457381</td>\n",
       "      <td>-38.374723</td>\n",
       "    </tr>\n",
       "    <tr>\n",
       "      <th>支付</th>\n",
       "      <td>110672</td>\n",
       "      <td>33.197849</td>\n",
       "      <td>1.479755</td>\n",
       "      <td>66.802151</td>\n",
       "    </tr>\n",
       "  </tbody>\n",
       "</table>\n",
       "</div>"
      ],
      "text/plain": [
       "          访问量    单一环节转化率%    整体环节转化率%   单一环节流失率%\n",
       "点击    7479078  100.000000  100.000000   0.000000\n",
       "收藏     240919    3.221239    3.221239  96.778761\n",
       "加购物车   333371  138.374723    4.457381 -38.374723\n",
       "支付     110672   33.197849    1.479755  66.802151"
      ]
     },
     "execution_count": 33,
     "metadata": {},
     "output_type": "execute_result"
    }
   ],
   "source": [
    "#每一环节流失率\n",
    "activity_df[\"单一环节流失率%\"] = 100 - activity_df[\"单一环节转化率%\"]\n",
    "activity_df"
   ]
  },
  {
   "cell_type": "markdown",
   "id": "c24e2c26",
   "metadata": {},
   "source": [
    "- 点击到收藏的流失率特别高，高达96%,说明很多用户对商品不感兴趣。收藏到加购的转化率有所提升转化率为138%，说明用户为了买自己喜欢的产品，也会进行加购凑单，或者加购了同类型的其他附属产品。或者用户直接跳过了收藏这个步骤，进行加购操作。\n",
    "- 购物车到支付的流失率为66%"
   ]
  },
  {
   "cell_type": "code",
   "execution_count": 34,
   "id": "03e59626",
   "metadata": {},
   "outputs": [
    {
     "data": {
      "text/html": [
       "\n",
       "<script>\n",
       "    require.config({\n",
       "        paths: {\n",
       "            'echarts':'https://assets.pyecharts.org/assets/v5/echarts.min'\n",
       "        }\n",
       "    });\n",
       "</script>\n",
       "\n",
       "        <div id=\"b10bcc099c6b464cab8617ba5d40596b\" style=\"width:900px; height:500px;\"></div>\n",
       "\n",
       "<script>\n",
       "        require(['echarts'], function(echarts) {\n",
       "                var chart_b10bcc099c6b464cab8617ba5d40596b = echarts.init(\n",
       "                    document.getElementById('b10bcc099c6b464cab8617ba5d40596b'), 'white', {renderer: 'canvas'});\n",
       "                var option_b10bcc099c6b464cab8617ba5d40596b = {\n",
       "    \"animation\": true,\n",
       "    \"animationThreshold\": 2000,\n",
       "    \"animationDuration\": 1000,\n",
       "    \"animationEasing\": \"cubicOut\",\n",
       "    \"animationDelay\": 0,\n",
       "    \"animationDurationUpdate\": 300,\n",
       "    \"animationEasingUpdate\": \"cubicOut\",\n",
       "    \"animationDelayUpdate\": 0,\n",
       "    \"aria\": {\n",
       "        \"enabled\": false\n",
       "    },\n",
       "    \"color\": [\n",
       "        \"#5470c6\",\n",
       "        \"#91cc75\",\n",
       "        \"#fac858\",\n",
       "        \"#ee6666\",\n",
       "        \"#73c0de\",\n",
       "        \"#3ba272\",\n",
       "        \"#fc8452\",\n",
       "        \"#9a60b4\",\n",
       "        \"#ea7ccc\"\n",
       "    ],\n",
       "    \"series\": [\n",
       "        {\n",
       "            \"type\": \"funnel\",\n",
       "            \"name\": \"\\u6574\\u4f53\\u8f6c\\u5316\\u7387(%)\",\n",
       "            \"data\": [\n",
       "                {\n",
       "                    \"name\": \"\\u70b9\\u51fb\",\n",
       "                    \"value\": 100.0\n",
       "                },\n",
       "                {\n",
       "                    \"name\": \"\\u6536\\u85cf\",\n",
       "                    \"value\": 3.221239302491564\n",
       "                },\n",
       "                {\n",
       "                    \"name\": \"\\u52a0\\u8d2d\\u7269\\u8f66\",\n",
       "                    \"value\": 4.457380976639099\n",
       "                },\n",
       "                {\n",
       "                    \"name\": \"\\u652f\\u4ed8\",\n",
       "                    \"value\": 1.479754590071129\n",
       "                }\n",
       "            ],\n",
       "            \"sort\": \"descending\",\n",
       "            \"gap\": 0,\n",
       "            \"label\": {\n",
       "                \"show\": true,\n",
       "                \"position\": \"inside\",\n",
       "                \"margin\": 8\n",
       "            },\n",
       "            \"tooltip\": {\n",
       "                \"show\": true,\n",
       "                \"trigger\": \"item\",\n",
       "                \"triggerOn\": \"mousemove|click\",\n",
       "                \"axisPointer\": {\n",
       "                    \"type\": \"line\"\n",
       "                },\n",
       "                \"showContent\": true,\n",
       "                \"alwaysShowContent\": false,\n",
       "                \"showDelay\": 0,\n",
       "                \"hideDelay\": 100,\n",
       "                \"enterable\": false,\n",
       "                \"confine\": false,\n",
       "                \"appendToBody\": false,\n",
       "                \"transitionDuration\": 0.4,\n",
       "                \"formatter\": \"{a}<br/>{b}:{c}%\",\n",
       "                \"textStyle\": {\n",
       "                    \"fontSize\": 14\n",
       "                },\n",
       "                \"borderWidth\": 0,\n",
       "                \"padding\": 5,\n",
       "                \"order\": \"seriesAsc\"\n",
       "            },\n",
       "            \"rippleEffect\": {\n",
       "                \"show\": true,\n",
       "                \"brushType\": \"stroke\",\n",
       "                \"scale\": 2.5,\n",
       "                \"period\": 4\n",
       "            }\n",
       "        }\n",
       "    ],\n",
       "    \"legend\": [\n",
       "        {\n",
       "            \"data\": [\n",
       "                \"\\u652f\\u4ed8\",\n",
       "                \"\\u6536\\u85cf\",\n",
       "                \"\\u52a0\\u8d2d\\u7269\\u8f66\",\n",
       "                \"\\u70b9\\u51fb\"\n",
       "            ],\n",
       "            \"selected\": {\n",
       "                \"\\u70b9\\u51fb\": true,\n",
       "                \"\\u6536\\u85cf\": true,\n",
       "                \"\\u52a0\\u8d2d\\u7269\\u8f66\": true,\n",
       "                \"\\u652f\\u4ed8\": true\n",
       "            },\n",
       "            \"show\": true,\n",
       "            \"padding\": 5,\n",
       "            \"itemGap\": 10,\n",
       "            \"itemWidth\": 25,\n",
       "            \"itemHeight\": 14,\n",
       "            \"backgroundColor\": \"transparent\",\n",
       "            \"borderColor\": \"#ccc\",\n",
       "            \"borderWidth\": 1,\n",
       "            \"borderRadius\": 0,\n",
       "            \"pageButtonItemGap\": 5,\n",
       "            \"pageButtonPosition\": \"end\",\n",
       "            \"pageFormatter\": \"{current}/{total}\",\n",
       "            \"pageIconColor\": \"#2f4554\",\n",
       "            \"pageIconInactiveColor\": \"#aaa\",\n",
       "            \"pageIconSize\": 15,\n",
       "            \"animationDurationUpdate\": 800,\n",
       "            \"selector\": false,\n",
       "            \"selectorPosition\": \"auto\",\n",
       "            \"selectorItemGap\": 7,\n",
       "            \"selectorButtonGap\": 10\n",
       "        }\n",
       "    ],\n",
       "    \"tooltip\": {\n",
       "        \"show\": true,\n",
       "        \"trigger\": \"item\",\n",
       "        \"triggerOn\": \"mousemove|click\",\n",
       "        \"axisPointer\": {\n",
       "            \"type\": \"line\"\n",
       "        },\n",
       "        \"showContent\": true,\n",
       "        \"alwaysShowContent\": false,\n",
       "        \"showDelay\": 0,\n",
       "        \"hideDelay\": 100,\n",
       "        \"enterable\": false,\n",
       "        \"confine\": false,\n",
       "        \"appendToBody\": false,\n",
       "        \"transitionDuration\": 0.4,\n",
       "        \"textStyle\": {\n",
       "            \"fontSize\": 14\n",
       "        },\n",
       "        \"borderWidth\": 0,\n",
       "        \"padding\": 5,\n",
       "        \"order\": \"seriesAsc\"\n",
       "    },\n",
       "    \"title\": [\n",
       "        {\n",
       "            \"show\": true,\n",
       "            \"text\": \"\\u6574\\u4f53\\u8f6c\\u5316\\u7387(%)\",\n",
       "            \"target\": \"blank\",\n",
       "            \"subtarget\": \"blank\",\n",
       "            \"padding\": 5,\n",
       "            \"itemGap\": 10,\n",
       "            \"textAlign\": \"auto\",\n",
       "            \"textVerticalAlign\": \"auto\",\n",
       "            \"triggerEvent\": false\n",
       "        }\n",
       "    ]\n",
       "};\n",
       "                chart_b10bcc099c6b464cab8617ba5d40596b.setOption(option_b10bcc099c6b464cab8617ba5d40596b);\n",
       "        });\n",
       "    </script>\n"
      ],
      "text/plain": [
       "<pyecharts.render.display.HTML at 0x1c601841310>"
      ]
     },
     "execution_count": 34,
     "metadata": {},
     "output_type": "execute_result"
    }
   ],
   "source": [
    "#整体转化率的漏斗转化图\n",
    "from pyecharts.charts import Funnel\n",
    "from pyecharts import options as opts\n",
    "funnel = Funnel().add(\n",
    "                series_name = '整体转化率(%)',\n",
    "                data_pair = [ list(z) for z in zip(activity_df.index,activity_df['整体环节转化率%']) ],\n",
    "                is_selected = True,\n",
    "                label_opts = opts.LabelOpts(position = 'inside')\n",
    "                )\n",
    "funnel.set_series_opts(tooltip_opts = opts.TooltipOpts(formatter = '{a}<br/>{b}:{c}%'))\n",
    "funnel.set_global_opts(title_opts = opts.TitleOpts(title = '整体转化率(%)') )\n",
    "funnel.render_notebook()"
   ]
  },
  {
   "cell_type": "code",
   "execution_count": 36,
   "id": "67749a63",
   "metadata": {},
   "outputs": [],
   "source": [
    "#用户生命周期\n",
    "life = df.groupby(by='user_id')[\"date\"].max() - df.groupby(by='user_id')[\"date\"].min()\n",
    "life_a = life.mean()"
   ]
  },
  {
   "cell_type": "code",
   "execution_count": 41,
   "id": "417714ef",
   "metadata": {},
   "outputs": [
    {
     "data": {
      "text/plain": [
       "Timedelta('26 days 20:20:32.640000')"
      ]
     },
     "execution_count": 41,
     "metadata": {},
     "output_type": "execute_result"
    }
   ],
   "source": [
    "life_a"
   ]
  },
  {
   "cell_type": "markdown",
   "id": "5aa79db3",
   "metadata": {},
   "source": [
    "- 用户平均生命周期为26天（一个月内）\n"
   ]
  }
 ],
 "metadata": {
  "kernelspec": {
   "display_name": "Python 3 (ipykernel)",
   "language": "python",
   "name": "python3"
  },
  "language_info": {
   "codemirror_mode": {
    "name": "ipython",
    "version": 3
   },
   "file_extension": ".py",
   "mimetype": "text/x-python",
   "name": "python",
   "nbconvert_exporter": "python",
   "pygments_lexer": "ipython3",
   "version": "3.9.12"
  }
 },
 "nbformat": 4,
 "nbformat_minor": 5
}
