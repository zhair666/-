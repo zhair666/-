{
 "cells": [
  {
   "cell_type": "code",
   "execution_count": 1,
   "id": "3ac67fc5",
   "metadata": {},
   "outputs": [],
   "source": [
    "import pandas as pd \n",
    "\n",
    "one_df = pd.read_csv(\"imdb (1000 movies) in june 2022.csv\")"
   ]
  },
  {
   "cell_type": "code",
   "execution_count": 2,
   "id": "78db8419",
   "metadata": {
    "scrolled": false
   },
   "outputs": [
    {
     "data": {
      "text/html": [
       "<div>\n",
       "<style scoped>\n",
       "    .dataframe tbody tr th:only-of-type {\n",
       "        vertical-align: middle;\n",
       "    }\n",
       "\n",
       "    .dataframe tbody tr th {\n",
       "        vertical-align: top;\n",
       "    }\n",
       "\n",
       "    .dataframe thead th {\n",
       "        text-align: right;\n",
       "    }\n",
       "</style>\n",
       "<table border=\"1\" class=\"dataframe\">\n",
       "  <thead>\n",
       "    <tr style=\"text-align: right;\">\n",
       "      <th></th>\n",
       "      <th>ranking of movie</th>\n",
       "      <th>movie name</th>\n",
       "      <th>Year</th>\n",
       "      <th>certificate</th>\n",
       "      <th>runtime</th>\n",
       "      <th>genre</th>\n",
       "      <th>RATING</th>\n",
       "      <th>metascore</th>\n",
       "      <th>DETAIL ABOUT MOVIE</th>\n",
       "      <th>DIRECTOR</th>\n",
       "      <th>ACTOR 1</th>\n",
       "      <th>ACTOR 2</th>\n",
       "      <th>ACTOR 3</th>\n",
       "      <th>ACTOR 4</th>\n",
       "      <th>votes</th>\n",
       "      <th>GROSS COLLECTION</th>\n",
       "    </tr>\n",
       "  </thead>\n",
       "  <tbody>\n",
       "    <tr>\n",
       "      <th>0</th>\n",
       "      <td>1</td>\n",
       "      <td>The Shawshank Redemption</td>\n",
       "      <td>-1994</td>\n",
       "      <td>15</td>\n",
       "      <td>142 min</td>\n",
       "      <td>Drama</td>\n",
       "      <td>9.3</td>\n",
       "      <td>81.0</td>\n",
       "      <td>Two imprisoned men bond over a number of years...</td>\n",
       "      <td>Frank Darabont</td>\n",
       "      <td>Tim Robbins</td>\n",
       "      <td>Morgan Freeman</td>\n",
       "      <td>Bob Gunton</td>\n",
       "      <td>William Sadler</td>\n",
       "      <td>2,603,314</td>\n",
       "      <td>$28.34M</td>\n",
       "    </tr>\n",
       "    <tr>\n",
       "      <th>1</th>\n",
       "      <td>2</td>\n",
       "      <td>The Godfather</td>\n",
       "      <td>-1972</td>\n",
       "      <td>X</td>\n",
       "      <td>175 min</td>\n",
       "      <td>Crime, Drama</td>\n",
       "      <td>9.2</td>\n",
       "      <td>100.0</td>\n",
       "      <td>The aging patriarch of an organized crime dyna...</td>\n",
       "      <td>Francis Ford Coppola</td>\n",
       "      <td>Marlon Brando</td>\n",
       "      <td>Al Pacino</td>\n",
       "      <td>James Caan</td>\n",
       "      <td>Diane Keaton</td>\n",
       "      <td>1,798,731</td>\n",
       "      <td>$134.97M</td>\n",
       "    </tr>\n",
       "    <tr>\n",
       "      <th>2</th>\n",
       "      <td>3</td>\n",
       "      <td>The Dark Knight</td>\n",
       "      <td>-2008</td>\n",
       "      <td>12A</td>\n",
       "      <td>152 min</td>\n",
       "      <td>Action, Crime, Drama</td>\n",
       "      <td>9.0</td>\n",
       "      <td>84.0</td>\n",
       "      <td>When the menace known as the Joker wreaks havo...</td>\n",
       "      <td>Christopher Nolan</td>\n",
       "      <td>Christian Bale</td>\n",
       "      <td>Heath Ledger</td>\n",
       "      <td>Aaron Eckhart</td>\n",
       "      <td>Michael Caine</td>\n",
       "      <td>2,574,810</td>\n",
       "      <td>$534.86M</td>\n",
       "    </tr>\n",
       "    <tr>\n",
       "      <th>3</th>\n",
       "      <td>4</td>\n",
       "      <td>The Lord of the Rings: The Return of the King</td>\n",
       "      <td>-2003</td>\n",
       "      <td>12A</td>\n",
       "      <td>201 min</td>\n",
       "      <td>Action, Adventure, Drama</td>\n",
       "      <td>9.0</td>\n",
       "      <td>94.0</td>\n",
       "      <td>Gandalf and Aragorn lead the World of Men agai...</td>\n",
       "      <td>Peter Jackson</td>\n",
       "      <td>Elijah Wood</td>\n",
       "      <td>Viggo Mortensen</td>\n",
       "      <td>Ian McKellen</td>\n",
       "      <td>Orlando Bloom</td>\n",
       "      <td>1,787,701</td>\n",
       "      <td>$377.85M</td>\n",
       "    </tr>\n",
       "    <tr>\n",
       "      <th>4</th>\n",
       "      <td>5</td>\n",
       "      <td>Schindler's List</td>\n",
       "      <td>-1993</td>\n",
       "      <td>15</td>\n",
       "      <td>195 min</td>\n",
       "      <td>Biography, Drama, History</td>\n",
       "      <td>9.0</td>\n",
       "      <td>94.0</td>\n",
       "      <td>In German-occupied Poland during World War II,...</td>\n",
       "      <td>Steven Spielberg</td>\n",
       "      <td>Liam Neeson</td>\n",
       "      <td>Ralph Fiennes</td>\n",
       "      <td>Ben Kingsley</td>\n",
       "      <td>Caroline Goodall</td>\n",
       "      <td>1,323,776</td>\n",
       "      <td>$96.90M</td>\n",
       "    </tr>\n",
       "  </tbody>\n",
       "</table>\n",
       "</div>"
      ],
      "text/plain": [
       "  ranking of movie                                     movie name   Year  \\\n",
       "0                1                       The Shawshank Redemption  -1994   \n",
       "1                2                                  The Godfather  -1972   \n",
       "2                3                                The Dark Knight  -2008   \n",
       "3                4  The Lord of the Rings: The Return of the King  -2003   \n",
       "4                5                               Schindler's List  -1993   \n",
       "\n",
       "  certificate  runtime                      genre  RATING  metascore  \\\n",
       "0          15  142 min                      Drama     9.3       81.0   \n",
       "1           X  175 min               Crime, Drama     9.2      100.0   \n",
       "2         12A  152 min       Action, Crime, Drama     9.0       84.0   \n",
       "3         12A  201 min   Action, Adventure, Drama     9.0       94.0   \n",
       "4          15  195 min  Biography, Drama, History     9.0       94.0   \n",
       "\n",
       "                                  DETAIL ABOUT MOVIE              DIRECTOR  \\\n",
       "0  Two imprisoned men bond over a number of years...        Frank Darabont   \n",
       "1  The aging patriarch of an organized crime dyna...  Francis Ford Coppola   \n",
       "2  When the menace known as the Joker wreaks havo...     Christopher Nolan   \n",
       "3  Gandalf and Aragorn lead the World of Men agai...         Peter Jackson   \n",
       "4  In German-occupied Poland during World War II,...      Steven Spielberg   \n",
       "\n",
       "          ACTOR 1          ACTOR 2        ACTOR 3           ACTOR 4  \\\n",
       "0     Tim Robbins   Morgan Freeman     Bob Gunton    William Sadler   \n",
       "1   Marlon Brando        Al Pacino     James Caan      Diane Keaton   \n",
       "2  Christian Bale     Heath Ledger  Aaron Eckhart     Michael Caine   \n",
       "3     Elijah Wood  Viggo Mortensen   Ian McKellen     Orlando Bloom   \n",
       "4     Liam Neeson    Ralph Fiennes   Ben Kingsley  Caroline Goodall   \n",
       "\n",
       "       votes GROSS COLLECTION  \n",
       "0  2,603,314          $28.34M  \n",
       "1  1,798,731         $134.97M  \n",
       "2  2,574,810         $534.86M  \n",
       "3  1,787,701         $377.85M  \n",
       "4  1,323,776          $96.90M  "
      ]
     },
     "execution_count": 2,
     "metadata": {},
     "output_type": "execute_result"
    }
   ],
   "source": [
    "one_df.head(5)"
   ]
  },
  {
   "cell_type": "code",
   "execution_count": 3,
   "id": "524cd36f",
   "metadata": {},
   "outputs": [],
   "source": [
    "one_df.dropna(inplace=True,axis=0)"
   ]
  },
  {
   "cell_type": "code",
   "execution_count": 4,
   "id": "42a9f9b1",
   "metadata": {
    "scrolled": true
   },
   "outputs": [
    {
     "data": {
      "text/plain": [
       "ranking of movie      0\n",
       "movie name            0\n",
       "Year                  0\n",
       "certificate           0\n",
       "runtime               0\n",
       "genre                 0\n",
       "RATING                0\n",
       "metascore             0\n",
       "DETAIL ABOUT MOVIE    0\n",
       "DIRECTOR              0\n",
       "ACTOR 1               0\n",
       "ACTOR 2               0\n",
       "ACTOR 3               0\n",
       "ACTOR 4               0\n",
       "votes                 0\n",
       "GROSS COLLECTION      0\n",
       "dtype: int64"
      ]
     },
     "execution_count": 4,
     "metadata": {},
     "output_type": "execute_result"
    }
   ],
   "source": [
    "one_df.isnull().sum()"
   ]
  },
  {
   "cell_type": "code",
   "execution_count": 5,
   "id": "64ce0101",
   "metadata": {},
   "outputs": [],
   "source": [
    "def move_(x):\n",
    "    return x.replace(\",\",\"\")\n",
    "\n",
    "one_df.votes = one_df.votes.apply(move_)\n"
   ]
  },
  {
   "cell_type": "code",
   "execution_count": 6,
   "id": "9f9c277c",
   "metadata": {},
   "outputs": [],
   "source": [
    "one_df.votes = one_df.votes.astype(\"int64\")"
   ]
  },
  {
   "cell_type": "code",
   "execution_count": 7,
   "id": "db53d430",
   "metadata": {},
   "outputs": [],
   "source": [
    "def change_price(x):\n",
    "    import re\n",
    "    return float(re.findall(r\"(\\d+\\.?\\d*)\",x)[0])"
   ]
  },
  {
   "cell_type": "code",
   "execution_count": 8,
   "id": "1547dfb4",
   "metadata": {},
   "outputs": [],
   "source": [
    "#处理时长\n",
    "one_df[\"runtime\"] = one_df[\"runtime\"].apply(lambda x:x.rstrip(\"min\"))\n",
    "one_df[\"runtime\"] = one_df[\"runtime\"].astype(\"int64\")"
   ]
  },
  {
   "cell_type": "code",
   "execution_count": 9,
   "id": "00af2fcd",
   "metadata": {},
   "outputs": [],
   "source": [
    "#修改时间列\n",
    "one_df[\"Year\"] = one_df[\"Year\"].apply(lambda x:x.replace('-',\"\"))\n",
    "#修改电影票房\n",
    "one_df[\"GROSS COLLECTION\"] = one_df[\"GROSS COLLECTION\"].apply(change_price)*1000000\n",
    "#票价\n",
    "one_df[\"price\"] = (one_df['GROSS COLLECTION']/one_df[\"votes\"])\n"
   ]
  },
  {
   "cell_type": "code",
   "execution_count": 10,
   "id": "e8e151bb",
   "metadata": {},
   "outputs": [],
   "source": [
    "#平均价格\n",
    "one_df[\"price\"] = one_df[\"GROSS COLLECTION\"]/one_df[\"votes\"]"
   ]
  },
  {
   "cell_type": "code",
   "execution_count": 11,
   "id": "7eaac4f8",
   "metadata": {},
   "outputs": [],
   "source": [
    "#处理演员票房\n",
    "def total_actor(x):\n",
    "    return x[\"ACTOR 1\"]+\",\"+x[\"ACTOR 2\"]+\",\"+x[\"ACTOR 3\"]+\",\"+x[\"ACTOR 4\"]\n",
    "one_df[\"total_actor\"] = one_df.apply(func=total_actor,axis=1)"
   ]
  },
  {
   "cell_type": "code",
   "execution_count": 12,
   "id": "047753df",
   "metadata": {},
   "outputs": [
    {
     "data": {
      "text/plain": [
       "0      None\n",
       "1      None\n",
       "2      None\n",
       "3      None\n",
       "4      None\n",
       "       ... \n",
       "988    None\n",
       "990    None\n",
       "993    None\n",
       "996    None\n",
       "997    None\n",
       "Length: 738, dtype: object"
      ]
     },
     "execution_count": 12,
     "metadata": {},
     "output_type": "execute_result"
    }
   ],
   "source": [
    "actor_set = [];\n",
    "def total_actor(x):\n",
    "    global actor_set\n",
    "    actor_set.append(x[\"ACTOR 1\"])\n",
    "    actor_set.append(x[\"ACTOR 2\"])\n",
    "    actor_set.append(x[\"ACTOR 3\"])\n",
    "    actor_set.append(x[\"ACTOR 4\"])\n",
    "one_df.apply(func=total_actor,axis=1)"
   ]
  },
  {
   "cell_type": "code",
   "execution_count": 13,
   "id": "869b869a",
   "metadata": {},
   "outputs": [],
   "source": [
    "actor_set = list(set(actor_set))\n"
   ]
  },
  {
   "cell_type": "code",
   "execution_count": 14,
   "id": "6ee988f0",
   "metadata": {},
   "outputs": [
    {
     "data": {
      "text/plain": [
       "2006"
      ]
     },
     "execution_count": 14,
     "metadata": {},
     "output_type": "execute_result"
    }
   ],
   "source": [
    "len(actor_set)"
   ]
  },
  {
   "cell_type": "code",
   "execution_count": 15,
   "id": "134f76dc",
   "metadata": {},
   "outputs": [],
   "source": [
    "num_count = [0 for i in range(2006)]"
   ]
  },
  {
   "cell_type": "code",
   "execution_count": 16,
   "id": "93896622",
   "metadata": {},
   "outputs": [
    {
     "data": {
      "text/plain": [
       "0      None\n",
       "1      None\n",
       "2      None\n",
       "3      None\n",
       "4      None\n",
       "       ... \n",
       "988    None\n",
       "990    None\n",
       "993    None\n",
       "996    None\n",
       "997    None\n",
       "Length: 738, dtype: object"
      ]
     },
     "execution_count": 16,
     "metadata": {},
     "output_type": "execute_result"
    }
   ],
   "source": [
    "#存储数据\n",
    "def num_coun(one_df):\n",
    "    global num_count,actor_set\n",
    "    for i in range(len(actor_set)):\n",
    "        if actor_set[i] in one_df[\"total_actor\"]:\n",
    "            num_count[i] += one_df[\"GROSS COLLECTION\"]\n",
    "\n",
    "one_df.apply(num_coun,axis=1)"
   ]
  },
  {
   "cell_type": "code",
   "execution_count": 17,
   "id": "11624440",
   "metadata": {},
   "outputs": [],
   "source": [
    "#连接起来\n",
    "actor_piaofang = pd.Series(data=num_count,index=actor_set)\n",
    "actor_piaofang.to_csv(\"actor_piaofang.csv\")"
   ]
  },
  {
   "cell_type": "code",
   "execution_count": 18,
   "id": "691dc339",
   "metadata": {},
   "outputs": [
    {
     "data": {
      "text/html": [
       "<div>\n",
       "<style scoped>\n",
       "    .dataframe tbody tr th:only-of-type {\n",
       "        vertical-align: middle;\n",
       "    }\n",
       "\n",
       "    .dataframe tbody tr th {\n",
       "        vertical-align: top;\n",
       "    }\n",
       "\n",
       "    .dataframe thead th {\n",
       "        text-align: right;\n",
       "    }\n",
       "</style>\n",
       "<table border=\"1\" class=\"dataframe\">\n",
       "  <thead>\n",
       "    <tr style=\"text-align: right;\">\n",
       "      <th></th>\n",
       "      <th>ranking of movie</th>\n",
       "      <th>movie name</th>\n",
       "      <th>Year</th>\n",
       "      <th>certificate</th>\n",
       "      <th>runtime</th>\n",
       "      <th>genre</th>\n",
       "      <th>RATING</th>\n",
       "      <th>metascore</th>\n",
       "      <th>DETAIL ABOUT MOVIE</th>\n",
       "      <th>DIRECTOR</th>\n",
       "      <th>ACTOR 1</th>\n",
       "      <th>ACTOR 2</th>\n",
       "      <th>ACTOR 3</th>\n",
       "      <th>ACTOR 4</th>\n",
       "      <th>votes</th>\n",
       "      <th>GROSS COLLECTION</th>\n",
       "      <th>price</th>\n",
       "      <th>total_actor</th>\n",
       "    </tr>\n",
       "  </thead>\n",
       "  <tbody>\n",
       "    <tr>\n",
       "      <th>0</th>\n",
       "      <td>1</td>\n",
       "      <td>The Shawshank Redemption</td>\n",
       "      <td>1994</td>\n",
       "      <td>15</td>\n",
       "      <td>142</td>\n",
       "      <td>Drama</td>\n",
       "      <td>9.3</td>\n",
       "      <td>81.0</td>\n",
       "      <td>Two imprisoned men bond over a number of years...</td>\n",
       "      <td>Frank Darabont</td>\n",
       "      <td>Tim Robbins</td>\n",
       "      <td>Morgan Freeman</td>\n",
       "      <td>Bob Gunton</td>\n",
       "      <td>William Sadler</td>\n",
       "      <td>2603314</td>\n",
       "      <td>28340000.0</td>\n",
       "      <td>10.886124</td>\n",
       "      <td>Tim Robbins,Morgan Freeman,Bob Gunton,William ...</td>\n",
       "    </tr>\n",
       "    <tr>\n",
       "      <th>1</th>\n",
       "      <td>2</td>\n",
       "      <td>The Godfather</td>\n",
       "      <td>1972</td>\n",
       "      <td>X</td>\n",
       "      <td>175</td>\n",
       "      <td>Crime, Drama</td>\n",
       "      <td>9.2</td>\n",
       "      <td>100.0</td>\n",
       "      <td>The aging patriarch of an organized crime dyna...</td>\n",
       "      <td>Francis Ford Coppola</td>\n",
       "      <td>Marlon Brando</td>\n",
       "      <td>Al Pacino</td>\n",
       "      <td>James Caan</td>\n",
       "      <td>Diane Keaton</td>\n",
       "      <td>1798731</td>\n",
       "      <td>134970000.0</td>\n",
       "      <td>75.036234</td>\n",
       "      <td>Marlon Brando,Al Pacino,James Caan,Diane Keaton</td>\n",
       "    </tr>\n",
       "    <tr>\n",
       "      <th>2</th>\n",
       "      <td>3</td>\n",
       "      <td>The Dark Knight</td>\n",
       "      <td>2008</td>\n",
       "      <td>12A</td>\n",
       "      <td>152</td>\n",
       "      <td>Action, Crime, Drama</td>\n",
       "      <td>9.0</td>\n",
       "      <td>84.0</td>\n",
       "      <td>When the menace known as the Joker wreaks havo...</td>\n",
       "      <td>Christopher Nolan</td>\n",
       "      <td>Christian Bale</td>\n",
       "      <td>Heath Ledger</td>\n",
       "      <td>Aaron Eckhart</td>\n",
       "      <td>Michael Caine</td>\n",
       "      <td>2574810</td>\n",
       "      <td>534860000.0</td>\n",
       "      <td>207.727949</td>\n",
       "      <td>Christian Bale,Heath Ledger,Aaron Eckhart,Mich...</td>\n",
       "    </tr>\n",
       "    <tr>\n",
       "      <th>3</th>\n",
       "      <td>4</td>\n",
       "      <td>The Lord of the Rings: The Return of the King</td>\n",
       "      <td>2003</td>\n",
       "      <td>12A</td>\n",
       "      <td>201</td>\n",
       "      <td>Action, Adventure, Drama</td>\n",
       "      <td>9.0</td>\n",
       "      <td>94.0</td>\n",
       "      <td>Gandalf and Aragorn lead the World of Men agai...</td>\n",
       "      <td>Peter Jackson</td>\n",
       "      <td>Elijah Wood</td>\n",
       "      <td>Viggo Mortensen</td>\n",
       "      <td>Ian McKellen</td>\n",
       "      <td>Orlando Bloom</td>\n",
       "      <td>1787701</td>\n",
       "      <td>377850000.0</td>\n",
       "      <td>211.360848</td>\n",
       "      <td>Elijah Wood,Viggo Mortensen,Ian McKellen,Orlan...</td>\n",
       "    </tr>\n",
       "    <tr>\n",
       "      <th>4</th>\n",
       "      <td>5</td>\n",
       "      <td>Schindler's List</td>\n",
       "      <td>1993</td>\n",
       "      <td>15</td>\n",
       "      <td>195</td>\n",
       "      <td>Biography, Drama, History</td>\n",
       "      <td>9.0</td>\n",
       "      <td>94.0</td>\n",
       "      <td>In German-occupied Poland during World War II,...</td>\n",
       "      <td>Steven Spielberg</td>\n",
       "      <td>Liam Neeson</td>\n",
       "      <td>Ralph Fiennes</td>\n",
       "      <td>Ben Kingsley</td>\n",
       "      <td>Caroline Goodall</td>\n",
       "      <td>1323776</td>\n",
       "      <td>96900000.0</td>\n",
       "      <td>73.199695</td>\n",
       "      <td>Liam Neeson,Ralph Fiennes,Ben Kingsley,Carolin...</td>\n",
       "    </tr>\n",
       "  </tbody>\n",
       "</table>\n",
       "</div>"
      ],
      "text/plain": [
       "  ranking of movie                                     movie name  Year  \\\n",
       "0                1                       The Shawshank Redemption  1994   \n",
       "1                2                                  The Godfather  1972   \n",
       "2                3                                The Dark Knight  2008   \n",
       "3                4  The Lord of the Rings: The Return of the King  2003   \n",
       "4                5                               Schindler's List  1993   \n",
       "\n",
       "  certificate  runtime                      genre  RATING  metascore  \\\n",
       "0          15      142                      Drama     9.3       81.0   \n",
       "1           X      175               Crime, Drama     9.2      100.0   \n",
       "2         12A      152       Action, Crime, Drama     9.0       84.0   \n",
       "3         12A      201   Action, Adventure, Drama     9.0       94.0   \n",
       "4          15      195  Biography, Drama, History     9.0       94.0   \n",
       "\n",
       "                                  DETAIL ABOUT MOVIE              DIRECTOR  \\\n",
       "0  Two imprisoned men bond over a number of years...        Frank Darabont   \n",
       "1  The aging patriarch of an organized crime dyna...  Francis Ford Coppola   \n",
       "2  When the menace known as the Joker wreaks havo...     Christopher Nolan   \n",
       "3  Gandalf and Aragorn lead the World of Men agai...         Peter Jackson   \n",
       "4  In German-occupied Poland during World War II,...      Steven Spielberg   \n",
       "\n",
       "          ACTOR 1          ACTOR 2        ACTOR 3           ACTOR 4    votes  \\\n",
       "0     Tim Robbins   Morgan Freeman     Bob Gunton    William Sadler  2603314   \n",
       "1   Marlon Brando        Al Pacino     James Caan      Diane Keaton  1798731   \n",
       "2  Christian Bale     Heath Ledger  Aaron Eckhart     Michael Caine  2574810   \n",
       "3     Elijah Wood  Viggo Mortensen   Ian McKellen     Orlando Bloom  1787701   \n",
       "4     Liam Neeson    Ralph Fiennes   Ben Kingsley  Caroline Goodall  1323776   \n",
       "\n",
       "   GROSS COLLECTION       price  \\\n",
       "0        28340000.0   10.886124   \n",
       "1       134970000.0   75.036234   \n",
       "2       534860000.0  207.727949   \n",
       "3       377850000.0  211.360848   \n",
       "4        96900000.0   73.199695   \n",
       "\n",
       "                                         total_actor  \n",
       "0  Tim Robbins,Morgan Freeman,Bob Gunton,William ...  \n",
       "1    Marlon Brando,Al Pacino,James Caan,Diane Keaton  \n",
       "2  Christian Bale,Heath Ledger,Aaron Eckhart,Mich...  \n",
       "3  Elijah Wood,Viggo Mortensen,Ian McKellen,Orlan...  \n",
       "4  Liam Neeson,Ralph Fiennes,Ben Kingsley,Carolin...  "
      ]
     },
     "execution_count": 18,
     "metadata": {},
     "output_type": "execute_result"
    }
   ],
   "source": [
    "one_df.head()"
   ]
  },
  {
   "cell_type": "code",
   "execution_count": null,
   "id": "e61127b6",
   "metadata": {},
   "outputs": [],
   "source": []
  },
  {
   "cell_type": "code",
   "execution_count": 19,
   "id": "fbbe8662",
   "metadata": {},
   "outputs": [
    {
     "data": {
      "text/html": [
       "<div>\n",
       "<style scoped>\n",
       "    .dataframe tbody tr th:only-of-type {\n",
       "        vertical-align: middle;\n",
       "    }\n",
       "\n",
       "    .dataframe tbody tr th {\n",
       "        vertical-align: top;\n",
       "    }\n",
       "\n",
       "    .dataframe thead th {\n",
       "        text-align: right;\n",
       "    }\n",
       "</style>\n",
       "<table border=\"1\" class=\"dataframe\">\n",
       "  <thead>\n",
       "    <tr style=\"text-align: right;\">\n",
       "      <th></th>\n",
       "      <th>ranking of movie</th>\n",
       "      <th>movie name</th>\n",
       "      <th>Year</th>\n",
       "      <th>certificate</th>\n",
       "      <th>runtime</th>\n",
       "      <th>genre</th>\n",
       "      <th>RATING</th>\n",
       "      <th>metascore</th>\n",
       "      <th>DETAIL ABOUT MOVIE</th>\n",
       "      <th>DIRECTOR</th>\n",
       "      <th>ACTOR 1</th>\n",
       "      <th>ACTOR 2</th>\n",
       "      <th>ACTOR 3</th>\n",
       "      <th>ACTOR 4</th>\n",
       "      <th>votes</th>\n",
       "      <th>GROSS COLLECTION</th>\n",
       "      <th>price</th>\n",
       "      <th>total_actor</th>\n",
       "    </tr>\n",
       "  </thead>\n",
       "  <tbody>\n",
       "    <tr>\n",
       "      <th>0</th>\n",
       "      <td>1</td>\n",
       "      <td>The Shawshank Redemption</td>\n",
       "      <td>1994</td>\n",
       "      <td>15</td>\n",
       "      <td>142</td>\n",
       "      <td>Drama</td>\n",
       "      <td>9.3</td>\n",
       "      <td>81.0</td>\n",
       "      <td>Two imprisoned men bond over a number of years...</td>\n",
       "      <td>Frank Darabont</td>\n",
       "      <td>Tim Robbins</td>\n",
       "      <td>Morgan Freeman</td>\n",
       "      <td>Bob Gunton</td>\n",
       "      <td>William Sadler</td>\n",
       "      <td>2603314</td>\n",
       "      <td>28340000.0</td>\n",
       "      <td>10.886124</td>\n",
       "      <td>Tim Robbins,Morgan Freeman,Bob Gunton,William ...</td>\n",
       "    </tr>\n",
       "    <tr>\n",
       "      <th>1</th>\n",
       "      <td>2</td>\n",
       "      <td>The Godfather</td>\n",
       "      <td>1972</td>\n",
       "      <td>X</td>\n",
       "      <td>175</td>\n",
       "      <td>Crime, Drama</td>\n",
       "      <td>9.2</td>\n",
       "      <td>100.0</td>\n",
       "      <td>The aging patriarch of an organized crime dyna...</td>\n",
       "      <td>Francis Ford Coppola</td>\n",
       "      <td>Marlon Brando</td>\n",
       "      <td>Al Pacino</td>\n",
       "      <td>James Caan</td>\n",
       "      <td>Diane Keaton</td>\n",
       "      <td>1798731</td>\n",
       "      <td>134970000.0</td>\n",
       "      <td>75.036234</td>\n",
       "      <td>Marlon Brando,Al Pacino,James Caan,Diane Keaton</td>\n",
       "    </tr>\n",
       "    <tr>\n",
       "      <th>2</th>\n",
       "      <td>3</td>\n",
       "      <td>The Dark Knight</td>\n",
       "      <td>2008</td>\n",
       "      <td>12A</td>\n",
       "      <td>152</td>\n",
       "      <td>Action, Crime, Drama</td>\n",
       "      <td>9.0</td>\n",
       "      <td>84.0</td>\n",
       "      <td>When the menace known as the Joker wreaks havo...</td>\n",
       "      <td>Christopher Nolan</td>\n",
       "      <td>Christian Bale</td>\n",
       "      <td>Heath Ledger</td>\n",
       "      <td>Aaron Eckhart</td>\n",
       "      <td>Michael Caine</td>\n",
       "      <td>2574810</td>\n",
       "      <td>534860000.0</td>\n",
       "      <td>207.727949</td>\n",
       "      <td>Christian Bale,Heath Ledger,Aaron Eckhart,Mich...</td>\n",
       "    </tr>\n",
       "    <tr>\n",
       "      <th>3</th>\n",
       "      <td>4</td>\n",
       "      <td>The Lord of the Rings: The Return of the King</td>\n",
       "      <td>2003</td>\n",
       "      <td>12A</td>\n",
       "      <td>201</td>\n",
       "      <td>Action, Adventure, Drama</td>\n",
       "      <td>9.0</td>\n",
       "      <td>94.0</td>\n",
       "      <td>Gandalf and Aragorn lead the World of Men agai...</td>\n",
       "      <td>Peter Jackson</td>\n",
       "      <td>Elijah Wood</td>\n",
       "      <td>Viggo Mortensen</td>\n",
       "      <td>Ian McKellen</td>\n",
       "      <td>Orlando Bloom</td>\n",
       "      <td>1787701</td>\n",
       "      <td>377850000.0</td>\n",
       "      <td>211.360848</td>\n",
       "      <td>Elijah Wood,Viggo Mortensen,Ian McKellen,Orlan...</td>\n",
       "    </tr>\n",
       "    <tr>\n",
       "      <th>4</th>\n",
       "      <td>5</td>\n",
       "      <td>Schindler's List</td>\n",
       "      <td>1993</td>\n",
       "      <td>15</td>\n",
       "      <td>195</td>\n",
       "      <td>Biography, Drama, History</td>\n",
       "      <td>9.0</td>\n",
       "      <td>94.0</td>\n",
       "      <td>In German-occupied Poland during World War II,...</td>\n",
       "      <td>Steven Spielberg</td>\n",
       "      <td>Liam Neeson</td>\n",
       "      <td>Ralph Fiennes</td>\n",
       "      <td>Ben Kingsley</td>\n",
       "      <td>Caroline Goodall</td>\n",
       "      <td>1323776</td>\n",
       "      <td>96900000.0</td>\n",
       "      <td>73.199695</td>\n",
       "      <td>Liam Neeson,Ralph Fiennes,Ben Kingsley,Carolin...</td>\n",
       "    </tr>\n",
       "  </tbody>\n",
       "</table>\n",
       "</div>"
      ],
      "text/plain": [
       "  ranking of movie                                     movie name  Year  \\\n",
       "0                1                       The Shawshank Redemption  1994   \n",
       "1                2                                  The Godfather  1972   \n",
       "2                3                                The Dark Knight  2008   \n",
       "3                4  The Lord of the Rings: The Return of the King  2003   \n",
       "4                5                               Schindler's List  1993   \n",
       "\n",
       "  certificate  runtime                      genre  RATING  metascore  \\\n",
       "0          15      142                      Drama     9.3       81.0   \n",
       "1           X      175               Crime, Drama     9.2      100.0   \n",
       "2         12A      152       Action, Crime, Drama     9.0       84.0   \n",
       "3         12A      201   Action, Adventure, Drama     9.0       94.0   \n",
       "4          15      195  Biography, Drama, History     9.0       94.0   \n",
       "\n",
       "                                  DETAIL ABOUT MOVIE              DIRECTOR  \\\n",
       "0  Two imprisoned men bond over a number of years...        Frank Darabont   \n",
       "1  The aging patriarch of an organized crime dyna...  Francis Ford Coppola   \n",
       "2  When the menace known as the Joker wreaks havo...     Christopher Nolan   \n",
       "3  Gandalf and Aragorn lead the World of Men agai...         Peter Jackson   \n",
       "4  In German-occupied Poland during World War II,...      Steven Spielberg   \n",
       "\n",
       "          ACTOR 1          ACTOR 2        ACTOR 3           ACTOR 4    votes  \\\n",
       "0     Tim Robbins   Morgan Freeman     Bob Gunton    William Sadler  2603314   \n",
       "1   Marlon Brando        Al Pacino     James Caan      Diane Keaton  1798731   \n",
       "2  Christian Bale     Heath Ledger  Aaron Eckhart     Michael Caine  2574810   \n",
       "3     Elijah Wood  Viggo Mortensen   Ian McKellen     Orlando Bloom  1787701   \n",
       "4     Liam Neeson    Ralph Fiennes   Ben Kingsley  Caroline Goodall  1323776   \n",
       "\n",
       "   GROSS COLLECTION       price  \\\n",
       "0        28340000.0   10.886124   \n",
       "1       134970000.0   75.036234   \n",
       "2       534860000.0  207.727949   \n",
       "3       377850000.0  211.360848   \n",
       "4        96900000.0   73.199695   \n",
       "\n",
       "                                         total_actor  \n",
       "0  Tim Robbins,Morgan Freeman,Bob Gunton,William ...  \n",
       "1    Marlon Brando,Al Pacino,James Caan,Diane Keaton  \n",
       "2  Christian Bale,Heath Ledger,Aaron Eckhart,Mich...  \n",
       "3  Elijah Wood,Viggo Mortensen,Ian McKellen,Orlan...  \n",
       "4  Liam Neeson,Ralph Fiennes,Ben Kingsley,Carolin...  "
      ]
     },
     "execution_count": 19,
     "metadata": {},
     "output_type": "execute_result"
    }
   ],
   "source": [
    "one_df.head()"
   ]
  },
  {
   "cell_type": "code",
   "execution_count": 22,
   "id": "0d67afe5",
   "metadata": {},
   "outputs": [],
   "source": [
    "gener_list = []\n",
    "def move_(x):\n",
    "    global gener_list\n",
    "    list_1 = x.split(\",\")\n",
    "    for i in list_1:\n",
    "        gener_list.append(i)\n",
    "    \n",
    "\n",
    "one_df.genre.apply(move_)\n",
    "gener_list2 = list(set(gener_list))"
   ]
  },
  {
   "cell_type": "code",
   "execution_count": 23,
   "id": "c1a95289",
   "metadata": {},
   "outputs": [
    {
     "data": {
      "text/plain": [
       "0      None\n",
       "1      None\n",
       "2      None\n",
       "3      None\n",
       "4      None\n",
       "       ... \n",
       "988    None\n",
       "990    None\n",
       "993    None\n",
       "996    None\n",
       "997    None\n",
       "Length: 738, dtype: object"
      ]
     },
     "execution_count": 23,
     "metadata": {},
     "output_type": "execute_result"
    }
   ],
   "source": [
    "movie_index = []\n",
    "def table1(x):\n",
    "    global movie_index\n",
    "    for i in range(len(x[\"genre\"].split(\",\"))):\n",
    "        movie_index.append(x[\"movie name\"])\n",
    "\n",
    "one_df.apply(table1,axis=1)"
   ]
  },
  {
   "cell_type": "code",
   "execution_count": 24,
   "id": "fab9bf11",
   "metadata": {},
   "outputs": [
    {
     "data": {
      "text/plain": [
       "1874"
      ]
     },
     "execution_count": 24,
     "metadata": {},
     "output_type": "execute_result"
    }
   ],
   "source": [
    "len(movie_index)"
   ]
  },
  {
   "cell_type": "code",
   "execution_count": 25,
   "id": "792d4637",
   "metadata": {},
   "outputs": [
    {
     "data": {
      "text/plain": [
       "0      None\n",
       "1      None\n",
       "2      None\n",
       "3      None\n",
       "4      None\n",
       "       ... \n",
       "988    None\n",
       "990    None\n",
       "993    None\n",
       "996    None\n",
       "997    None\n",
       "Length: 738, dtype: object"
      ]
     },
     "execution_count": 25,
     "metadata": {},
     "output_type": "execute_result"
    }
   ],
   "source": [
    "count_list = [ 0 for i in range(34)]\n",
    "def get_count(x):\n",
    "    global count_list,gener_list2\n",
    "    for i in range(len(gener_list2)):\n",
    "        if gener_list2[i] in str(x[\"genre\"]):\n",
    "            count_list[i] += x[\"GROSS COLLECTION\"]\n",
    "\n",
    "one_df.apply(get_count,axis=1)"
   ]
  },
  {
   "cell_type": "code",
   "execution_count": 26,
   "id": "449fcc8a",
   "metadata": {},
   "outputs": [
    {
     "data": {
      "text/plain": [
       "[2302220000.0,\n",
       " 23888080000.0,\n",
       " 43680000.0,\n",
       " 790950000.0,\n",
       " 493120000.0,\n",
       " 3023800000.0,\n",
       " 853520000.0,\n",
       " 3274450000.0,\n",
       " 855610000.0,\n",
       " 6984850000.0,\n",
       " 4321320000.0,\n",
       " 1489540000.0,\n",
       " 254900000.0,\n",
       " 6031380000.0,\n",
       " 4979170000.0,\n",
       " 1414810000.0,\n",
       " 9194800000.0,\n",
       " 3642440000.0,\n",
       " 8660010000.0,\n",
       " 9025920000.0,\n",
       " 29156460000.0,\n",
       " 6895850000.0,\n",
       " 3646440000.0,\n",
       " 24016740000.0,\n",
       " 19335200000.0,\n",
       " 27459020000.0,\n",
       " 1292130000.0,\n",
       " 44130000.0,\n",
       " 12895750000.0,\n",
       " 6048930000.0,\n",
       " 2013340000.0,\n",
       " 673850000.0,\n",
       " 3708650000.0,\n",
       " 6910230000.0]"
      ]
     },
     "execution_count": 26,
     "metadata": {},
     "output_type": "execute_result"
    }
   ],
   "source": [
    "count_list"
   ]
  },
  {
   "cell_type": "code",
   "execution_count": 27,
   "id": "4b75f3f6",
   "metadata": {},
   "outputs": [],
   "source": [
    "genre_count = pd.Series(data=count_list,index=gener_list2)"
   ]
  },
  {
   "cell_type": "code",
   "execution_count": 34,
   "id": "910a325b",
   "metadata": {},
   "outputs": [],
   "source": [
    "genre_table= pd.Series(data=gener_list,index=movie_index)\n",
    "genre_table.to_csv(\"genre_table.csv\")"
   ]
  },
  {
   "cell_type": "code",
   "execution_count": 36,
   "id": "f62ae196",
   "metadata": {},
   "outputs": [
    {
     "data": {
      "text/plain": [
       "The Shawshank Redemption                Drama\n",
       "The Godfather                           Crime\n",
       "The Godfather                           Drama\n",
       "The Dark Knight                        Action\n",
       "The Dark Knight                         Crime\n",
       "                                      ...    \n",
       "From Here to Eternity                 Romance\n",
       "From Here to Eternity                     War\n",
       "Snow White and the Seven Dwarfs     Animation\n",
       "Snow White and the Seven Dwarfs     Adventure\n",
       "Snow White and the Seven Dwarfs        Family\n",
       "Length: 1874, dtype: object"
      ]
     },
     "execution_count": 36,
     "metadata": {},
     "output_type": "execute_result"
    }
   ],
   "source": [
    "genre_table"
   ]
  },
  {
   "cell_type": "code",
   "execution_count": 38,
   "id": "b6254257",
   "metadata": {},
   "outputs": [
    {
     "data": {
      "text/plain": [
       "1"
      ]
     },
     "execution_count": 38,
     "metadata": {},
     "output_type": "execute_result"
    }
   ],
   "source": [
    "one_df[\"movie name\"].duplicated().sum()"
   ]
  },
  {
   "cell_type": "code",
   "execution_count": 33,
   "id": "516d1fd3",
   "metadata": {},
   "outputs": [],
   "source": [
    "genre_count.to_csv('genre_count.csv')"
   ]
  },
  {
   "cell_type": "code",
   "execution_count": 29,
   "id": "bbbf075c",
   "metadata": {},
   "outputs": [],
   "source": [
    "#保存\n",
    "one_df.to_csv(\"movies.csv\")"
   ]
  },
  {
   "cell_type": "code",
   "execution_count": 30,
   "id": "5d73b767",
   "metadata": {},
   "outputs": [],
   "source": [
    "#读取剧情信息\n",
    "two_df = pd.read_csv(\"imdb (1000 tv series) - (june 2022).csv\")\n",
    "#删除索引列\n",
    "two_df.drop(labels=\"ranking\",axis=1,inplace=True)\n",
    "#去除空值\n",
    "two_df.dropna(inplace=True)\n"
   ]
  },
  {
   "cell_type": "code",
   "execution_count": null,
   "id": "2f99a3b1",
   "metadata": {},
   "outputs": [],
   "source": [
    "two_df.head()"
   ]
  },
  {
   "cell_type": "code",
   "execution_count": null,
   "id": "314ce9ac",
   "metadata": {},
   "outputs": [],
   "source": [
    "#转换时间\n",
    "two_df[\"runtime min\"] = two_df[\"runtime\"].apply(lambda x:x.rstrip(\"min\"))  "
   ]
  },
  {
   "cell_type": "code",
   "execution_count": null,
   "id": "64f75fb7",
   "metadata": {},
   "outputs": [],
   "source": [
    "two_df.head()"
   ]
  },
  {
   "cell_type": "code",
   "execution_count": null,
   "id": "1bbc701e",
   "metadata": {},
   "outputs": [],
   "source": [
    "#是否续季\n",
    "two_df[\"Year\"] = two_df[\"Year\"].apply(lambda x:x.replace(\"-\",\"\"))\n",
    "two_df[\"sequal\"] = two_df[\"Year\"].apply(lambda x: 1 if x[0] == \"(\" else 0)\n"
   ]
  },
  {
   "cell_type": "code",
   "execution_count": null,
   "id": "3fde539d",
   "metadata": {},
   "outputs": [],
   "source": [
    "two_df.drop(labels=\"runtime\",axis=1,inplace=True)"
   ]
  },
  {
   "cell_type": "code",
   "execution_count": null,
   "id": "157411b2",
   "metadata": {},
   "outputs": [],
   "source": [
    "two_df.head()"
   ]
  },
  {
   "cell_type": "code",
   "execution_count": null,
   "id": "47a2b58c",
   "metadata": {},
   "outputs": [],
   "source": [
    "#讲括号去除\n",
    "import re\n",
    "two_df[\"Year\"] = two_df[\"Year\"].apply(lambda x: x if x[0]!=\"(\" else re.findall(r\"\\((.*?)\\)\",x)[0])"
   ]
  },
  {
   "cell_type": "code",
   "execution_count": null,
   "id": "8c791c78",
   "metadata": {},
   "outputs": [],
   "source": [
    "#连播年份\n",
    "def lasted(x):\n",
    "    import time\n",
    "    num1_list = re.findall(r\"(\\d+)\",x)\n",
    "    if len(num1_list) < 2:\n",
    "        return 1\n",
    "    else :\n",
    "        if num1_list[1] == \"\":\n",
    "            return  int(time.strftime(\"%Y\",time.localtime()))- int(num1_list[0])\n",
    "        else:\n",
    "            return  int(num1_list[1])- int( num1_list[0])\n",
    "        "
   ]
  },
  {
   "cell_type": "code",
   "execution_count": null,
   "id": "29f458e8",
   "metadata": {},
   "outputs": [],
   "source": [
    "two_df[\"lasted_time\"] = two_df[\"Year\"].apply(lasted)\n"
   ]
  },
  {
   "cell_type": "code",
   "execution_count": null,
   "id": "43f262a5",
   "metadata": {},
   "outputs": [],
   "source": [
    "two_df.head()"
   ]
  },
  {
   "cell_type": "code",
   "execution_count": null,
   "id": "88b47e7f",
   "metadata": {},
   "outputs": [],
   "source": [
    "#电视剧上映的第一年\n",
    "two_df[\"first_year\"] = two_df[\"Year\"].apply(lambda x:x[:4])"
   ]
  },
  {
   "cell_type": "code",
   "execution_count": null,
   "id": "98f3151f",
   "metadata": {},
   "outputs": [],
   "source": [
    "two_df.head()"
   ]
  },
  {
   "cell_type": "code",
   "execution_count": null,
   "id": "df6cce74",
   "metadata": {},
   "outputs": [],
   "source": [
    "two_df.to_csv(\"series\")"
   ]
  },
  {
   "cell_type": "code",
   "execution_count": null,
   "id": "29300919",
   "metadata": {},
   "outputs": [],
   "source": [
    "game_cv = pd.read_csv(\"imdb(VIDEO GAMES).csv\")"
   ]
  },
  {
   "cell_type": "code",
   "execution_count": null,
   "id": "ac2b16bc",
   "metadata": {},
   "outputs": [],
   "source": [
    "game_cv.head()"
   ]
  },
  {
   "cell_type": "code",
   "execution_count": null,
   "id": "e79f8ce6",
   "metadata": {},
   "outputs": [],
   "source": [
    "#缺失的数据对我们需要分析的影响不大\n",
    "game_cv.isnull().sum()\n",
    "game_cv.drop()"
   ]
  }
 ],
 "metadata": {
  "kernelspec": {
   "display_name": "Python 3 (ipykernel)",
   "language": "python",
   "name": "python3"
  },
  "language_info": {
   "codemirror_mode": {
    "name": "ipython",
    "version": 3
   },
   "file_extension": ".py",
   "mimetype": "text/x-python",
   "name": "python",
   "nbconvert_exporter": "python",
   "pygments_lexer": "ipython3",
   "version": "3.9.12"
  }
 },
 "nbformat": 4,
 "nbformat_minor": 5
}
